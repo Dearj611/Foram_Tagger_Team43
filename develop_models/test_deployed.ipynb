{
 "cells": [
  {
   "cell_type": "code",
   "execution_count": 11,
   "metadata": {},
   "outputs": [],
   "source": [
    "# -*- coding: utf-8 -*-\n",
    "# This notebook attempts to rigorously test the deployed model\n",
    "# It does so my performing these test:\n",
    "#   Overall accuracy\n",
    "#   Accuracy per species\n",
    "#   F1 score\n",
    "#   Confusion matrix\n",
    "\n",
    "import torch\n",
    "import torch.nn as nn\n",
    "import torch.optim as optim\n",
    "from torch.optim import lr_scheduler\n",
    "import numpy as np\n",
    "import torchvision\n",
    "from torchvision import datasets, models, transforms\n",
    "from torchsummary import summary\n",
    "import os\n",
    "import pandas as pd\n",
    "import cv2 as cv\n",
    "from PIL import Image\n",
    "from load_data import ForamDataSet\n",
    "import matplotlib.pyplot as plt\n",
    "from azureml.core.authentication import ServicePrincipalAuthentication\n",
    "from azureml.core import Workspace\n",
    "from azureml.core.model import Model\n"
   ]
  },
  {
   "cell_type": "code",
   "execution_count": 4,
   "metadata": {},
   "outputs": [],
   "source": [
    "train_on_gpu = False\n",
    "data_transforms = {\n",
    "    'train': transforms.Compose([\n",
    "        transforms.ToPILImage(),\n",
    "        transforms.RandomResizedCrop(224),\n",
    "        transforms.RandomHorizontalFlip(),\n",
    "        transforms.ToTensor(),\n",
    "        transforms.Normalize([0.485, 0.456, 0.406], [0.229, 0.224, 0.225])\n",
    "    ]),\n",
    "    # val does not use augmentation\n",
    "    'val': transforms.Compose([\n",
    "        transforms.ToPILImage(),\n",
    "        transforms.Resize(256),\n",
    "        transforms.CenterCrop(224),\n",
    "        transforms.ToTensor(),\n",
    "        transforms.Normalize([0.485, 0.456, 0.406], [0.229, 0.224, 0.225])\n",
    "    ]),\n",
    "    # test does not use augmentation\n",
    "    'test': transforms.Compose([\n",
    "        transforms.ToPILImage(),\n",
    "        transforms.Resize(256),\n",
    "        transforms.CenterCrop(224),\n",
    "        transforms.ToTensor(),\n",
    "        transforms.Normalize([0.485, 0.456, 0.406], [0.229, 0.224, 0.225])\n",
    "    ]),\n",
    "}\n",
    "data_dir = './training-images'\n",
    "master_csv = './data-csv/all.csv'\n",
    "train_file = './data-csv/combined1_and_2.csv'\n",
    "val_file = './data-csv/file3.csv'\n",
    "test_file = './data-csv/file0.csv'\n",
    "image_datasets = {}\n",
    "image_datasets['train'] = ForamDataSet(csv_file=train_file,\n",
    "                                       root_dir=data_dir,\n",
    "                                       master_file='./data-csv/file0.csv',\n",
    "                                       transform=data_transforms['train'])\n",
    "image_datasets['val'] = ForamDataSet(csv_file=val_file,\n",
    "                                     root_dir=data_dir,\n",
    "                                     master_file='./data-csv/file0.csv',\n",
    "                                     transform=data_transforms['val'])\n",
    "image_datasets['test'] = ForamDataSet(csv_file=test_file,\n",
    "                                      root_dir=data_dir,\n",
    "                                      master_file='./data-csv/file0.csv',\n",
    "                                      transform=data_transforms['test'])                                     \n",
    "dataloaders = {x: torch.utils.data.DataLoader(image_datasets[x], batch_size=4,\n",
    "                                             shuffle=True, num_workers=4)\n",
    "              for x in ['train', 'val', 'test']}\n",
    "classes = image_datasets['train'].labels\n",
    "\n",
    "device = torch.device(\"cuda:0\" if torch.cuda.is_available() else \"cpu\")"
   ]
  },
  {
   "cell_type": "code",
   "execution_count": 3,
   "metadata": {},
   "outputs": [],
   "source": [
    "def visualize_frequency(path):\n",
    "    df = pd.read_csv(path)\n",
    "    df = df.groupby('species').count()\n",
    "    arr = [tuple((x)) for x in df.to_records()]\n",
    "    arr = sorted(arr, key=lambda x:x[1], reverse=True)\n",
    "    species = [str(i[0]) for i in arr]\n",
    "    frequency = [int(i[1]) for i in arr]\n",
    "    \n",
    "    y_pos = np.arange(len(species))\n",
    "    plt.bar(y_pos, frequency, align='center', alpha=0.5)\n",
    "    plt.xticks(y_pos, species)\n",
    "    plt.xticks(rotation=80)\n",
    "    plt.ylabel('Frequency')\n",
    "    plt.title('Species')\n",
    "\n",
    "    plt.show()"
   ]
  },
  {
   "cell_type": "code",
   "execution_count": 4,
   "metadata": {},
   "outputs": [
    {
     "data": {
      "image/png": "[encoded data removed]",
      "text/plain": [
       "<Figure size 432x288 with 1 Axes>"
      ]
     },
     "metadata": {
      "needs_background": "light"
     },
     "output_type": "display_data"
    }
   ],
   "source": [
    "visualize_frequency(path='./data-csv/master.csv')"
   ]
  },
  {
   "cell_type": "code",
   "execution_count": 21,
   "metadata": {},
   "outputs": [
    {
     "name": "stdout",
     "output_type": "stream",
     "text": [
      "                    total\n",
      "species                  \n",
      "G-ruber               159\n",
      "G-sacculifer          157\n",
      "G-tumida              150\n",
      "G-truncatulinoides    142\n",
      "G-scitula             128\n",
      "S-dehiscen            122\n",
      "G-siphonifera         109\n",
      "N-humerosa            103\n",
      "P-obliquiloculata      98\n",
      "N-acostaensis          88\n",
      "G-crassaformis         78\n",
      "G-ungulata             71\n",
      "G-elongatus            68\n",
      "N-dutertrei            50\n",
      "O-universa             28\n",
      "G-hexagonus             8\n"
     ]
    }
   ],
   "source": [
    "master_csv = pd.read_csv('./data-csv/master.csv').groupby('species').count().sort_values(by='location', ascending=False)\n",
    "master_csv.columns = ['total']\n",
    "print(master_csv)"
   ]
  },
  {
   "cell_type": "code",
   "execution_count": 5,
   "metadata": {},
   "outputs": [],
   "source": [
    "def visualize_categories():\n",
    "    train_csv = pd.read_csv('./data-csv/combined1_and_0.csv').groupby('species').count()\n",
    "    val_csv = pd.read_csv('./data-csv/file3.csv').groupby('species').count()\n",
    "    test_csv = pd.read_csv('./data-csv/file2.csv').groupby('species').count()\n",
    "    merged_csv = pd.merge(pd.merge(train_csv, val_csv, on='species'), test_csv, on='species')\n",
    "    merged_csv.columns = ['n_train', 'n_val', 'n_test']\n",
    "    print(merged_csv.sort_values(by=['n_train'], ascending=False))"
   ]
  },
  {
   "cell_type": "code",
   "execution_count": 6,
   "metadata": {},
   "outputs": [
    {
     "name": "stdout",
     "output_type": "stream",
     "text": [
      "                    n_train  n_val  n_test\n",
      "species                                   \n",
      "G-ruber                  78     42      39\n",
      "G-sacculifer             78     40      39\n",
      "G-tumida                 74     39      37\n",
      "G-truncatulinoides       70     37      35\n",
      "G-scitula                64     32      32\n",
      "S-dehiscen               60     32      30\n",
      "G-siphonifera            54     28      27\n",
      "N-humerosa               50     28      25\n",
      "P-obliquiloculata        48     26      24\n",
      "N-acostaensis            44     22      22\n",
      "G-crassaformis           38     21      19\n",
      "G-elongatus              34     17      17\n",
      "G-ungulata               34     20      17\n",
      "N-dutertrei              24     14      12\n",
      "O-universa               14      7       7\n",
      "G-hexagonus               4      2       2\n"
     ]
    }
   ],
   "source": [
    "visualize_categories()"
   ]
  },
  {
   "cell_type": "code",
   "execution_count": 7,
   "metadata": {},
   "outputs": [],
   "source": [
    "# Verifies that there is no cross contamination between the files\n",
    "# i.e a species does not show up twice\n",
    "train_csv = pd.read_csv(train_file)['location'].values.tolist()\n",
    "val_csv = pd.read_csv(val_file)['location'].values.tolist()\n",
    "test_csv = pd.read_csv(test_file)['location'].values.tolist()\n",
    "for item in train_csv:\n",
    "    if item in val_csv:\n",
    "        print(item)\n",
    "    if item in test_csv:\n",
    "        print(item)"
   ]
  },
  {
   "cell_type": "code",
   "execution_count": 12,
   "metadata": {},
   "outputs": [],
   "source": [
    "def run():\n",
    "    svc_pr = ServicePrincipalAuthentication(\n",
    "        tenant_id=\"1faf88fe-a998-4c5b-93c9-210a11d9a5c2\",\n",
    "        service_principal_id=\"3683e499-d9d1-4b25-9e51-fc0c056415da\",\n",
    "        service_principal_password=\"R5q6DTJsLHmxPTYcegeXMQ/2I9pABbkRu9ru7h1Srtc=\")\n",
    "    # retrieve the path to the model file using the model name\n",
    "    ws = Workspace.get(name='foram-workspace',\n",
    "                       subscription_id='d90d34f0-1175-4d80-a89e-b74e16c0e31b',\n",
    "                       auth=svc_pr)\n",
    "    model_path = Model.get_model_path('resnet_cv', _workspace=ws)\n",
    "    model = load_checkpoint(model_path)\n",
    "    return model\n",
    "\n",
    "\n",
    "def load_checkpoint(path):\n",
    "    model = models.resnet18(pretrained=True)\n",
    "    model.fc = nn.Linear(model.fc.in_features, 16)\n",
    "    model.load_state_dict(torch.load(path, map_location='cpu'))\n",
    "    model.idx_to_class = {0: 'G-crassaformis', 1: 'G-elongatus', 2: 'G-hexagonus', 3: 'G-ruber', 4: 'G-sacculifer', 5: 'G-scitula', 6: 'G-siphonifera', 7: 'G-truncatulinoides', 8: 'G-tumida', 9: 'G-ungulata', 10: 'N-acostaensis', 11: 'N-dutertrei', 12: 'N-humerosa', 13: 'O-universa', 14: 'P-obliquiloculata', 15: 'S-dehiscen'}\n",
    "    return model"
   ]
  },
  {
   "cell_type": "code",
   "execution_count": 13,
   "metadata": {},
   "outputs": [],
   "source": [
    "# Loads the model currently in use in Azure\n",
    "model = run()"
   ]
  },
  {
   "cell_type": "code",
   "execution_count": 4,
   "metadata": {},
   "outputs": [
    {
     "data": {
      "text/plain": [
       "Text(0.5, 1.0, 'Validation Loss')"
      ]
     },
     "execution_count": 4,
     "metadata": {},
     "output_type": "execute_result"
    },
    {
     "data": {
      "image/png": "[encoded data removed]",
      "text/plain": [
       "<Figure size 504x360 with 1 Axes>"
      ]
     },
     "metadata": {
      "needs_background": "light"
     },
     "output_type": "display_data"
    }
   ],
   "source": [
    "history = pd.read_csv('./model1/resnet1.csv')\n",
    "val = history[history.phase=='val']\n",
    "train = history[history.phase=='train']\n",
    "val.reset_index(drop=True,inplace=True)\n",
    "train.reset_index(drop=True,inplace=True)\n",
    "\n",
    "plt.figure(figsize=(7, 5))\n",
    "plt.plot(val['epoch_loss'], 'r', label='validation loss')\n",
    "# plt.plot(train['epoch_loss'], 'g', label='training loss')\n",
    "plt.legend(loc='upper right')\n",
    "plt.xlabel('Epoch')\n",
    "plt.ylabel('Loss')\n",
    "plt.title('Validation Loss')\n",
    "\n",
    "# plt.figure(figsize=(7, 5))\n",
    "# plt.plot(val['epoch_acc'], 'r', label='validation accuracy')\n",
    "# plt.plot(train['epoch_acc'], 'g', label='training accuracy')\n",
    "# plt.legend(loc='upper right')\n",
    "# plt.xlabel('Epoch')\n",
    "# plt.ylabel('accuracy')\n",
    "# plt.title('Training and Validation accuracy')"
   ]
  },
  {
   "cell_type": "code",
   "execution_count": 7,
   "metadata": {},
   "outputs": [
    {
     "name": "stdout",
     "output_type": "stream",
     "text": [
      "    Unnamed: 0  learning_rate  overall_accuracy\n",
      "0            0         0.0001         69.791667\n",
      "1            1         0.0002         79.166667\n",
      "2            2         0.0003         82.552083\n",
      "3            3         0.0004         81.250000\n",
      "4            4         0.0005         88.541667\n",
      "5            5         0.0006         88.281250\n",
      "6            6         0.0007         86.458333\n",
      "7            7         0.0008         86.458333\n",
      "8            8         0.0009         90.364583\n",
      "9            9         0.0010         87.500000\n",
      "10          10         0.0012         89.322917\n",
      "11          11         0.0014         84.895833\n",
      "12          12         0.0016         85.156250\n",
      "13          13         0.0018         82.812500\n",
      "14          14         0.0020         84.114583\n",
      "15          15         0.0022         82.812500\n",
      "16          16         0.0024         85.156250\n",
      "17          17         0.0026         82.291667\n",
      "18          18         0.0028         81.510417\n"
     ]
    },
    {
     "data": {
      "image/png": "[encoded data removed]",
      "text/plain": [
       "<Figure size 720x360 with 1 Axes>"
      ]
     },
     "metadata": {
      "needs_background": "light"
     },
     "output_type": "display_data"
    }
   ],
   "source": [
    "record = pd.read_csv('./explore/record.csv')\n",
    "record = record[0:19]\n",
    "plt.figure(figsize=(10, 5))\n",
    "plt.plot(record['learning_rate'], record['overall_accuracy'])\n",
    "plt.title('Learning Rate vs Overall Accuracy')\n",
    "print(record)"
   ]
  },
  {
   "cell_type": "code",
   "execution_count": 40,
   "metadata": {},
   "outputs": [],
   "source": [
    "def accuracy(output, target, topk=(1, )):\n",
    "    \"\"\"\n",
    "    Compute the topk accuracy(s)\n",
    "    target: the correct labelled answer\n",
    "    \"\"\"\n",
    "    if train_on_gpu:\n",
    "        output = output.to('cuda')\n",
    "        target = target.to('cuda')\n",
    "\n",
    "    with torch.no_grad():\n",
    "        maxk = max(topk)\n",
    "        batch_size = target.size(0)\n",
    "\n",
    "        # Find the predicted classes and transpose\n",
    "        _, pred = output.topk(k=maxk, dim=1, largest=True, sorted=True)\n",
    "        pred = pred.t()\n",
    "        # Determine predictions equal to the targets\n",
    "        correct = pred.eq(target.view(1, -1).expand_as(pred))\n",
    "        res = []\n",
    "\n",
    "        # For each k, find the percentage of correct\n",
    "        for k in topk:\n",
    "            correct_k = correct[:k].view(-1).float().sum(0, keepdim=True)\n",
    "            res.append(correct_k.mul_(100.0 / batch_size).item())\n",
    "        return res"
   ]
  },
  {
   "cell_type": "code",
   "execution_count": 41,
   "metadata": {},
   "outputs": [],
   "source": [
    "def evaluate_for_categories(model, test_loader, criterion, topk=(1, 5)):\n",
    "    \"\"\"Measure the performance of a trained PyTorch model\n",
    "\n",
    "    Params\n",
    "    --------\n",
    "        model (PyTorch model): trained cnn for inference\n",
    "        test_loader (PyTorch DataLoader): test dataloader\n",
    "        topk (tuple of ints): accuracy to measure\n",
    "\n",
    "    Returns\n",
    "    --------\n",
    "        results (DataFrame): results for each category\n",
    "\n",
    "    \"\"\"\n",
    "\n",
    "    classes = []\n",
    "    losses = []\n",
    "    # Hold accuracy results\n",
    "    acc_results = np.zeros((len(test_loader.dataset), len(topk)))\n",
    "    i = 0\n",
    "\n",
    "    model.eval()\n",
    "    with torch.no_grad():\n",
    "\n",
    "        # Testing loop\n",
    "        for data, targets in test_loader:\n",
    "\n",
    "            # Tensors to gpu\n",
    "            if train_on_gpu:\n",
    "                data, targets = data.to('cuda'), targets.to('cuda')\n",
    "\n",
    "            # Raw model output\n",
    "            out = model(data)\n",
    "            # Iterate through each example\n",
    "            for pred, true in zip(out, targets):\n",
    "                # Find topk accuracy\n",
    "                acc_results[i, :] = accuracy(\n",
    "                    pred.unsqueeze(0), true.unsqueeze(0), topk)\n",
    "                classes.append(model.idx_to_class[true.item()])\n",
    "                # Calculate the loss\n",
    "                loss = criterion(pred.view(1, 16), true.view(1))\n",
    "                losses.append(loss.item())\n",
    "                i += 1\n",
    "\n",
    "    # Send results to a dataframe and calculate average across classes\n",
    "    for i in topk:\n",
    "        results = pd.DataFrame(acc_results, columns=['top{i}'.format(i=i) for i in topk])\n",
    "        results['class'] = classes\n",
    "        results['loss'] = losses\n",
    "        results = results.groupby(classes).mean()\n",
    "\n",
    "    return results.reset_index().rename(columns={'index': 'class'})\n",
    "criterion = nn.CrossEntropyLoss()"
   ]
  },
  {
   "cell_type": "code",
   "execution_count": 42,
   "metadata": {},
   "outputs": [
    {
     "name": "stdout",
     "output_type": "stream",
     "text": [
      "                 class        top1        top5      loss  total\n",
      "0       G-crassaformis   68.421053  100.000000  0.915013     19\n",
      "1          G-elongatus   70.588235   94.117647  1.382466     17\n",
      "2          G-hexagonus   50.000000  100.000000  1.415903      2\n",
      "3              G-ruber   89.743590  100.000000  0.280626     39\n",
      "4         G-sacculifer   79.487179  100.000000  0.576091     39\n",
      "5            G-scitula   84.375000   96.875000  0.783826     32\n",
      "6        G-siphonifera   85.185185  100.000000  0.447159     27\n",
      "7   G-truncatulinoides   94.285714  100.000000  0.282429     35\n",
      "8             G-tumida   91.891892   97.297297  0.444041     37\n",
      "9           G-ungulata  100.000000  100.000000  0.019817     17\n",
      "10       N-acostaensis   90.909091  100.000000  0.319382     22\n",
      "11         N-dutertrei   83.333333  100.000000  0.701763     12\n",
      "12          N-humerosa   80.000000  100.000000  0.475119     25\n",
      "13          O-universa   71.428571  100.000000  0.867334      7\n",
      "14   P-obliquiloculata   83.333333  100.000000  0.349481     24\n",
      "15          S-dehiscen   96.666667  100.000000  0.068325     30\n"
     ]
    }
   ],
   "source": [
    "results = evaluate_for_categories(model, dataloaders['test'], criterion)\n",
    "test_csv = pd.read_csv('./data-csv/file2.csv').groupby('species').count()\n",
    "test_csv = test_csv.reset_index()\n",
    "test_csv.columns = ['class','total']\n",
    "test_csv.rename({'species':'class'}, inplace=True)\n",
    "results = pd.merge(results, test_csv, on='class')\n",
    "print(results)"
   ]
  },
  {
   "cell_type": "code",
   "execution_count": null,
   "metadata": {},
   "outputs": [],
   "source": []
  },
  {
   "cell_type": "code",
   "execution_count": 25,
   "metadata": {},
   "outputs": [],
   "source": [
    "def overall_accuracy(model, test_loader):\n",
    "    model.eval()\n",
    "    with torch.no_grad():\n",
    "        counter = 0\n",
    "        result = 0\n",
    "        # Testing loop\n",
    "        for data, targets in test_loader:\n",
    "            if train_on_gpu:\n",
    "                data, targets = data.to('cuda'), targets.to('cuda')\n",
    "            # Raw model output\n",
    "            out = model(data)\n",
    "            result += accuracy(model(data), targets)[0]\n",
    "            counter += 1\n",
    "    return result/counter"
   ]
  },
  {
   "cell_type": "code",
   "execution_count": 49,
   "metadata": {},
   "outputs": [
    {
     "name": "stdout",
     "output_type": "stream",
     "text": [
      "86.45833333333333\n"
     ]
    }
   ],
   "source": [
    "print(overall_accuracy(model, dataloaders['test']))"
   ]
  },
  {
   "cell_type": "code",
   "execution_count": null,
   "metadata": {},
   "outputs": [],
   "source": [
    "def F1(model, test_loader):\n",
    "    '''\n",
    "    class_info = {class_index: [true_postiive,\n",
    "                                false_positive,\n",
    "                                total_per_species,\n",
    "                                precision,\n",
    "                                recall,\n",
    "                                F-score]}\n",
    "    '''\n",
    "    model.eval()\n",
    "    class_info = {}\n",
    "    for i in range(len(image_datasets['train'].labels)):\n",
    "        class_info[i] = [0,0,0]\n",
    "    with torch.no_grad():\n",
    "        for data, targets in test_loader:\n",
    "            if train_on_gpu:\n",
    "                data, targets = data.to('cuda'), targets.to('cuda')\n",
    "            out = model(data)\n",
    "            _, pred = out.topk(k=1, dim=1, largest=True, sorted=True)\n",
    "            pred = torch.squeeze(pred, 1)\n",
    "            for i in range(len(targets)):\n",
    "                if pred[i] == targets[i]: # prediction correct, add to true positive\n",
    "                    temp = class_info[int(pred[i])]\n",
    "                    temp[0] = temp[0] + 1\n",
    "                    class_info[int(pred[i])] = temp\n",
    "                else: # prediction wrong, add to false positive\n",
    "                    temp = class_info[int(pred[i])]\n",
    "                    temp[1] = temp[1] + 1\n",
    "                    class_info[int(pred[i])] = temp\n",
    "    test_csv = pd.read_csv('../test.csv').groupby('species').count()\n",
    "    species = image_datasets['train'].labels\n",
    "    for i in range(test_csv.shape[0]):\n",
    "        row = test_csv.iloc[i]\n",
    "        arr = class_info[species.index(row.name)]\n",
    "        arr[2] = int(row.location)\n",
    "        arr.append(arr[0]/(arr[0]+arr[1]))\n",
    "        arr.append(arr[0]/arr[2])\n",
    "        arr.append((2*arr[3]*arr[4])/(arr[3]+arr[4]))\n",
    "        class_info[species.index(row.name)] = arr\n",
    "    total_true_positives = 0\n",
    "    total_false_postives = 0\n",
    "    total = 0\n",
    "    for key,values in class_info.items():\n",
    "        total_true_positives += values[0]\n",
    "        total_false_postives += values[1]\n",
    "        total += values[2]\n",
    "    micro_avg_prec = total_true_positives/(total_true_positives+total_false_postives)\n",
    "    micro_avg_rec = total_true_positives/total\n",
    "    micro_f1 = (2*micro_avg_prec*micro_avg_rec)/(micro_avg_prec+micro_avg_rec)\n",
    "    df = pd.DataFrame.from_dict(class_info, orient='index',\n",
    "                        columns=['true_positive','false_positive','total_per_species','precision','recall','F-score'])\n",
    "    return micro_f1, df"
   ]
  },
  {
   "cell_type": "code",
   "execution_count": null,
   "metadata": {},
   "outputs": [],
   "source": [
    "# In simple terms, high precision means that an algorithm returned substantially \n",
    "# more relevant results than irrelevant ones, while high recall means that an \n",
    "# algorithm returned most of the relevant results. -wiki\n",
    "ans = F1(model, dataloaders['test'])\n",
    "print(ans[1])\n",
    "print(ans[0])"
   ]
  },
  {
   "cell_type": "code",
   "execution_count": 51,
   "metadata": {},
   "outputs": [],
   "source": [
    "def construct_confusion_matrix(model):\n",
    "    matrix = [[0 for i in range(len(classes))] for i in range(len(classes))]\n",
    "    model.eval()\n",
    "    with torch.no_grad():\n",
    "        for data, targets in dataloaders['test']:\n",
    "            out = model(data).numpy()\n",
    "            for x, i in enumerate(out):\n",
    "                matrix[targets.numpy()[x]][np.argmax(i)] += 1\n",
    "    return matrix\n",
    "matrix = construct_confusion_matrix(model)"
   ]
  },
  {
   "cell_type": "code",
   "execution_count": 52,
   "metadata": {},
   "outputs": [
    {
     "name": "stdout",
     "output_type": "stream",
     "text": [
      "[13, 0, 0, 0, 0, 4, 0, 1, 0, 0, 1, 0, 0, 0, 0, 0]\n",
      "[0, 13, 0, 3, 1, 0, 0, 0, 0, 0, 0, 0, 0, 0, 0, 0]\n",
      "[0, 0, 1, 0, 0, 0, 1, 0, 0, 0, 0, 0, 0, 0, 0, 0]\n",
      "[0, 3, 0, 33, 1, 0, 0, 0, 0, 0, 0, 0, 2, 0, 0, 0]\n",
      "[0, 0, 0, 2, 36, 0, 0, 1, 0, 0, 0, 0, 0, 0, 0, 0]\n",
      "[0, 0, 0, 0, 0, 28, 0, 0, 1, 2, 1, 0, 0, 0, 0, 0]\n",
      "[0, 0, 0, 0, 0, 0, 27, 0, 0, 0, 0, 0, 0, 0, 0, 0]\n",
      "[1, 0, 0, 0, 0, 0, 0, 30, 1, 0, 0, 0, 2, 0, 1, 0]\n",
      "[2, 0, 0, 0, 1, 0, 0, 0, 30, 0, 0, 0, 0, 0, 0, 4]\n",
      "[0, 0, 0, 0, 0, 1, 0, 0, 0, 15, 0, 0, 0, 0, 0, 1]\n",
      "[0, 0, 0, 0, 0, 0, 2, 0, 0, 0, 20, 0, 0, 0, 0, 0]\n",
      "[0, 0, 0, 0, 0, 0, 0, 0, 0, 0, 1, 9, 2, 0, 0, 0]\n",
      "[0, 0, 0, 0, 1, 0, 2, 0, 2, 0, 0, 0, 20, 0, 0, 0]\n",
      "[0, 0, 0, 0, 0, 0, 0, 0, 0, 0, 0, 0, 0, 7, 0, 0]\n",
      "[0, 0, 0, 0, 0, 1, 0, 0, 2, 0, 0, 0, 1, 0, 20, 0]\n",
      "[0, 0, 0, 0, 0, 0, 0, 0, 0, 0, 0, 0, 0, 0, 0, 30]\n",
      "                    G-crassaformis  G-elongatus  G-hexagonus  G-ruber  \\\n",
      "G-crassaformis                  13            0            0        0   \n",
      "G-elongatus                      0           13            0        3   \n",
      "G-hexagonus                      0            0            1        0   \n",
      "G-ruber                          0            3            0       33   \n",
      "G-sacculifer                     0            0            0        2   \n",
      "G-scitula                        0            0            0        0   \n",
      "G-siphonifera                    0            0            0        0   \n",
      "G-truncatulinoides               1            0            0        0   \n",
      "G-tumida                         2            0            0        0   \n",
      "G-ungulata                       0            0            0        0   \n",
      "N-acostaensis                    0            0            0        0   \n",
      "N-dutertrei                      0            0            0        0   \n",
      "N-humerosa                       0            0            0        0   \n",
      "O-universa                       0            0            0        0   \n",
      "P-obliquiloculata                0            0            0        0   \n",
      "S-dehiscen                       0            0            0        0   \n",
      "\n",
      "                    G-sacculifer  G-scitula  G-siphonifera  \\\n",
      "G-crassaformis                 0          4              0   \n",
      "G-elongatus                    1          0              0   \n",
      "G-hexagonus                    0          0              1   \n",
      "G-ruber                        1          0              0   \n",
      "G-sacculifer                  36          0              0   \n",
      "G-scitula                      0         28              0   \n",
      "G-siphonifera                  0          0             27   \n",
      "G-truncatulinoides             0          0              0   \n",
      "G-tumida                       1          0              0   \n",
      "G-ungulata                     0          1              0   \n",
      "N-acostaensis                  0          0              2   \n",
      "N-dutertrei                    0          0              0   \n",
      "N-humerosa                     1          0              2   \n",
      "O-universa                     0          0              0   \n",
      "P-obliquiloculata              0          1              0   \n",
      "S-dehiscen                     0          0              0   \n",
      "\n",
      "                    G-truncatulinoides  G-tumida  G-ungulata  N-acostaensis  \\\n",
      "G-crassaformis                       1         0           0              1   \n",
      "G-elongatus                          0         0           0              0   \n",
      "G-hexagonus                          0         0           0              0   \n",
      "G-ruber                              0         0           0              0   \n",
      "G-sacculifer                         1         0           0              0   \n",
      "G-scitula                            0         1           2              1   \n",
      "G-siphonifera                        0         0           0              0   \n",
      "G-truncatulinoides                  30         1           0              0   \n",
      "G-tumida                             0        30           0              0   \n",
      "G-ungulata                           0         0          15              0   \n",
      "N-acostaensis                        0         0           0             20   \n",
      "N-dutertrei                          0         0           0              1   \n",
      "N-humerosa                           0         2           0              0   \n",
      "O-universa                           0         0           0              0   \n",
      "P-obliquiloculata                    0         2           0              0   \n",
      "S-dehiscen                           0         0           0              0   \n",
      "\n",
      "                    N-dutertrei  N-humerosa  O-universa  P-obliquiloculata  \\\n",
      "G-crassaformis                0           0           0                  0   \n",
      "G-elongatus                   0           0           0                  0   \n",
      "G-hexagonus                   0           0           0                  0   \n",
      "G-ruber                       0           2           0                  0   \n",
      "G-sacculifer                  0           0           0                  0   \n",
      "G-scitula                     0           0           0                  0   \n",
      "G-siphonifera                 0           0           0                  0   \n",
      "G-truncatulinoides            0           2           0                  1   \n",
      "G-tumida                      0           0           0                  0   \n",
      "G-ungulata                    0           0           0                  0   \n",
      "N-acostaensis                 0           0           0                  0   \n",
      "N-dutertrei                   9           2           0                  0   \n",
      "N-humerosa                    0          20           0                  0   \n",
      "O-universa                    0           0           7                  0   \n",
      "P-obliquiloculata             0           1           0                 20   \n",
      "S-dehiscen                    0           0           0                  0   \n",
      "\n",
      "                    S-dehiscen  \n",
      "G-crassaformis               0  \n",
      "G-elongatus                  0  \n",
      "G-hexagonus                  0  \n",
      "G-ruber                      0  \n",
      "G-sacculifer                 0  \n",
      "G-scitula                    0  \n",
      "G-siphonifera                0  \n",
      "G-truncatulinoides           0  \n",
      "G-tumida                     4  \n",
      "G-ungulata                   1  \n",
      "N-acostaensis                0  \n",
      "N-dutertrei                  0  \n",
      "N-humerosa                   0  \n",
      "O-universa                   0  \n",
      "P-obliquiloculata            0  \n",
      "S-dehiscen                  30  \n"
     ]
    }
   ],
   "source": [
    "for i in matrix:\n",
    "    print(i)\n",
    "confusion_matrix = pd.DataFrame(matrix, index=classes, columns=classes)\n",
    "print(confusion_matrix)\n",
    "'''\n",
    "What this means is that for the 16 G-crassaformis, 13 were correctly predicted\n",
    "The diagonal shows all the correct predictions\n",
    "'''"
   ]
  }
 ],
 "metadata": {
  "kernelspec": {
   "display_name": "ft_kernel",
   "language": "python",
   "name": "ft_kernel"
  },
  "language_info": {
   "codemirror_mode": {
    "name": "ipython",
    "version": 3
   },
   "file_extension": ".py",
   "mimetype": "text/x-python",
   "name": "python",
   "nbconvert_exporter": "python",
   "pygments_lexer": "ipython3",
   "version": "3.5.2"
  }
 },
 "nbformat": 4,
 "nbformat_minor": 2
}
